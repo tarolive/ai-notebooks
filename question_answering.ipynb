{
 "cells": [
  {
   "cell_type": "code",
   "execution_count": null,
   "metadata": {
    "scrolled": true
   },
   "outputs": [],
   "source": [
    "!pip install --upgrade tensorflow transformers"
   ]
  },
  {
   "cell_type": "code",
   "execution_count": null,
   "metadata": {},
   "outputs": [],
   "source": [
    "import tensorflow as tf\n",
    "from transformers import DistilBertTokenizer, TFDistilBertForQuestionAnswering"
   ]
  },
  {
   "cell_type": "code",
   "execution_count": null,
   "metadata": {},
   "outputs": [],
   "source": [
    "pre_trained_model = 'distilbert-base-uncased-distilled-squad'\n",
    "\n",
    "tokenizer = DistilBertTokenizer.from_pretrained(pre_trained_model)\n",
    "model = TFDistilBertForQuestionAnswering.from_pretrained(pre_trained_model)"
   ]
  },
  {
   "cell_type": "code",
   "execution_count": null,
   "metadata": {},
   "outputs": [],
   "source": [
    "def compute(text, questions):\n",
    "\n",
    "    print(f'Text: {text}')\n",
    "\n",
    "    for question in questions:\n",
    "\n",
    "        input_dict = tokenizer(question, text, return_tensors = 'tf')\n",
    "        outputs = model(input_dict)\n",
    "\n",
    "        start_logits = outputs.start_logits\n",
    "        end_logits = outputs.end_logits\n",
    "\n",
    "        all_tokens = tokenizer.convert_ids_to_tokens(input_dict['input_ids'].numpy()[0])\n",
    "        answer = ' '.join(all_tokens[tf.math.argmax(start_logits, 1)[0] : tf.math.argmax(end_logits, 1)[0] + 1])\n",
    "\n",
    "        print(f'Question: {question}')\n",
    "        print(f'Answer: {answer}')"
   ]
  },
  {
   "cell_type": "code",
   "execution_count": null,
   "metadata": {},
   "outputs": [],
   "source": [
    "text = '''\n",
    "Red Hat is an American multinational software company that provides open source software products to enterprises.\n",
    "Founded in 1993, Red Hat has its corporate headquarters in Raleigh, North Carolina, with other offices worldwide.\n",
    "It became a subsidiary of IBM on July 9, 2019.\n",
    "'''\n",
    "questions = [\n",
    "    'What is Red Hat?',\n",
    "    'When was Red Hat founded?',\n",
    "    'Where is Red Hat headquartered?',\n",
    "    'When did Red Hat become a subsidiary of IBM?'\n",
    "]\n",
    "\n",
    "compute(text, questions)"
   ]
  }
 ],
 "metadata": {
  "kernelspec": {
   "display_name": "Python 3",
   "language": "python",
   "name": "python3"
  },
  "language_info": {
   "codemirror_mode": {
    "name": "ipython",
    "version": 3
   },
   "file_extension": ".py",
   "mimetype": "text/x-python",
   "name": "python",
   "nbconvert_exporter": "python",
   "pygments_lexer": "ipython3",
   "version": "3.7.6"
  }
 },
 "nbformat": 4,
 "nbformat_minor": 4
}
