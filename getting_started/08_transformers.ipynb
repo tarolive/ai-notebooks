{
 "cells": [
  {
   "cell_type": "code",
   "execution_count": null,
   "id": "712d58b3-5230-415c-9579-d908cda95a02",
   "metadata": {},
   "outputs": [],
   "source": [
    "!pip install transformers"
   ]
  },
  {
   "cell_type": "code",
   "execution_count": null,
   "id": "f8a02e62-3f9f-4c73-bddf-f6eae12fa1fc",
   "metadata": {},
   "outputs": [],
   "source": [
    "from transformers import pipeline"
   ]
  },
  {
   "cell_type": "code",
   "execution_count": null,
   "id": "4a3fa855-9d4f-40fa-a653-8ca2716be521",
   "metadata": {},
   "outputs": [],
   "source": [
    "model_name = 'deepset/roberta-base-squad2'\n",
    "nlp = pipeline('question-answering', model = model_name, tokenizer = model_name)"
   ]
  },
  {
   "cell_type": "code",
   "execution_count": null,
   "id": "78bd6221-9398-4cad-8b98-b897e1cee947",
   "metadata": {},
   "outputs": [],
   "source": [
    "context = \"\"\"\n",
    "Red Hat Cloud Services include hosted and managed platform, application, and data services that streamline the hybrid cloud experience,\n",
    "reducing the operational cost and complexity of delivering cloud-native applications.\n",
    "It is available on AWS, Microsoft Azure, Google Cloud and IBM Cloud.\n",
    "\"\"\""
   ]
  },
  {
   "cell_type": "code",
   "execution_count": null,
   "id": "29cefd8b-3b80-4f27-8f5c-feb22d332069",
   "metadata": {},
   "outputs": [],
   "source": [
    "nlp({\n",
    "    'context': context,\n",
    "    'question': 'Where Red Hat Cloud Services is available ?'\n",
    "})"
   ]
  },
  {
   "cell_type": "code",
   "execution_count": null,
   "id": "900aa71c-77a4-409b-97b1-188b5340442f",
   "metadata": {},
   "outputs": [],
   "source": [
    "nlp({\n",
    "    'context': context,\n",
    "    'question': 'What is available on Google Cloud ?'\n",
    "})"
   ]
  }
 ],
 "metadata": {
  "kernelspec": {
   "display_name": "Python 3 (ipykernel)",
   "language": "python",
   "name": "python3"
  },
  "language_info": {
   "codemirror_mode": {
    "name": "ipython",
    "version": 3
   },
   "file_extension": ".py",
   "mimetype": "text/x-python",
   "name": "python",
   "nbconvert_exporter": "python",
   "pygments_lexer": "ipython3",
   "version": "3.8.8"
  }
 },
 "nbformat": 4,
 "nbformat_minor": 5
}
