{
 "cells": [
  {
   "cell_type": "code",
   "execution_count": null,
   "id": "850df31c-4107-4a75-9975-265c06d4f3f8",
   "metadata": {},
   "outputs": [],
   "source": [
    "!pip install tensorflow numpy matplotlib"
   ]
  },
  {
   "cell_type": "code",
   "execution_count": null,
   "id": "aa94deb6-d3c9-4243-95fe-bf6d3a20ce05",
   "metadata": {},
   "outputs": [],
   "source": [
    "import tensorflow as tf\n",
    "import numpy as np\n",
    "import matplotlib.pyplot as plt"
   ]
  },
  {
   "cell_type": "code",
   "execution_count": null,
   "id": "eed51d05-9843-43d5-b3dd-fc3aabee831e",
   "metadata": {},
   "outputs": [],
   "source": [
    "def celsius_to_fahrenheit(celcius_degrees): return celcius_degrees * 1.8 + 32"
   ]
  },
  {
   "cell_type": "code",
   "execution_count": null,
   "id": "dadca213-95b7-4aad-98de-f5d64fe1553d",
   "metadata": {},
   "outputs": [],
   "source": [
    "celsius_to_fahrenheit(0)"
   ]
  },
  {
   "cell_type": "code",
   "execution_count": null,
   "id": "db47be3d-0299-410c-a411-b47868f68b88",
   "metadata": {},
   "outputs": [],
   "source": [
    "celsius_to_fahrenheit(100)"
   ]
  },
  {
   "cell_type": "code",
   "execution_count": null,
   "id": "8df373cd-3a2f-46d3-8645-4e3c4cfd770e",
   "metadata": {},
   "outputs": [],
   "source": [
    "data_celsius = np.array([-40, -10,  0,  8, 15, 22,  38], dtype = float)\n",
    "data_fahrenheit = np.array([celsius_to_fahrenheit(celsius) for celsius in data_celsius])\n",
    "\n",
    "for i, celsius in enumerate(data_celsius):\n",
    "    print('Celsius: {} | Fahrenheit: {}'.format(celsius, data_fahrenheit[i]))"
   ]
  },
  {
   "cell_type": "code",
   "execution_count": null,
   "id": "7c435653-7d1f-4577-96f8-d5134f470184",
   "metadata": {},
   "outputs": [],
   "source": [
    "layer = tf.keras.layers.Dense(units = 1, input_shape = [1])\n",
    "model = tf.keras.Sequential([layer])"
   ]
  },
  {
   "cell_type": "code",
   "execution_count": null,
   "id": "ea774f81-3029-45cd-9a2c-5c38506a1269",
   "metadata": {},
   "outputs": [],
   "source": [
    "model.compile(loss = 'mean_squared_error', optimizer = tf.keras.optimizers.Adam(0.1))"
   ]
  },
  {
   "cell_type": "code",
   "execution_count": null,
   "id": "bdc05564-3326-4fb6-8c27-c1f806334fc7",
   "metadata": {},
   "outputs": [],
   "source": [
    "history = model.fit(data_celsius, data_fahrenheit, epochs = 500, verbose = False)"
   ]
  },
  {
   "cell_type": "code",
   "execution_count": null,
   "id": "4a89e760-6196-4320-850f-3699434da733",
   "metadata": {},
   "outputs": [],
   "source": [
    "model.predict([0])"
   ]
  },
  {
   "cell_type": "code",
   "execution_count": null,
   "id": "67ad01eb-e402-4f7b-9b4c-fdfafbf592a3",
   "metadata": {},
   "outputs": [],
   "source": [
    "model.predict([100])"
   ]
  },
  {
   "cell_type": "code",
   "execution_count": null,
   "id": "7f522be9-1243-4cd3-9925-4411c46f6da6",
   "metadata": {},
   "outputs": [],
   "source": [
    "layer.get_weights()"
   ]
  },
  {
   "cell_type": "code",
   "execution_count": null,
   "id": "6058171e-f11a-4fbb-a78b-a979696837b2",
   "metadata": {},
   "outputs": [],
   "source": [
    "plt.xlabel('Epoch')\n",
    "plt.ylabel('Loss')\n",
    "plt.plot(history.history['loss'])"
   ]
  }
 ],
 "metadata": {
  "kernelspec": {
   "display_name": "Python 3 (ipykernel)",
   "language": "python",
   "name": "python3"
  },
  "language_info": {
   "codemirror_mode": {
    "name": "ipython",
    "version": 3
   },
   "file_extension": ".py",
   "mimetype": "text/x-python",
   "name": "python",
   "nbconvert_exporter": "python",
   "pygments_lexer": "ipython3",
   "version": "3.8.8"
  }
 },
 "nbformat": 4,
 "nbformat_minor": 5
}
