{
 "cells": [
  {
   "cell_type": "code",
   "execution_count": null,
   "id": "ef04b491-c4b3-453b-a61e-a68ac19339dc",
   "metadata": {},
   "outputs": [],
   "source": [
    "!wget https://storage.googleapis.com/mledu-datasets/cats_and_dogs_filtered.zip"
   ]
  },
  {
   "cell_type": "code",
   "execution_count": null,
   "id": "ef125ac5-cc37-46bf-93ad-85b82a60843c",
   "metadata": {},
   "outputs": [],
   "source": [
    "!unzip cats_and_dogs_filtered.zip"
   ]
  },
  {
   "cell_type": "code",
   "execution_count": null,
   "id": "f7f236f0-5c26-489a-9f98-3b2f6c946dff",
   "metadata": {},
   "outputs": [],
   "source": [
    "!rm -rf cats_and_dogs_filtered.zip"
   ]
  },
  {
   "cell_type": "code",
   "execution_count": null,
   "id": "0a9524af-3c89-4975-b803-2c449cf7633c",
   "metadata": {},
   "outputs": [],
   "source": [
    "!pip install tensorflow matplotlib"
   ]
  },
  {
   "cell_type": "code",
   "execution_count": null,
   "id": "45a2f63c-589a-4916-924f-a42baf9e8948",
   "metadata": {},
   "outputs": [],
   "source": [
    "import tensorflow as tf\n",
    "import matplotlib.pyplot as plt"
   ]
  },
  {
   "cell_type": "code",
   "execution_count": null,
   "id": "5b890d6f-e0b5-4df2-bb94-61b78f9f223f",
   "metadata": {},
   "outputs": [],
   "source": [
    "image_size = (160, 160)\n",
    "image_shape = image_size + (3,)\n",
    "class_names = ['cat', 'dog']"
   ]
  },
  {
   "cell_type": "code",
   "execution_count": null,
   "id": "f477a58a-c34d-4956-9347-e3e5e33af6af",
   "metadata": {},
   "outputs": [],
   "source": [
    "dataset_train = tf.keras.preprocessing.image_dataset_from_directory(\n",
    "    'cats_and_dogs_filtered/train',\n",
    "    image_size = image_size\n",
    ")"
   ]
  },
  {
   "cell_type": "code",
   "execution_count": null,
   "id": "4250954d-22b0-4bf6-a905-b49cc304103b",
   "metadata": {},
   "outputs": [],
   "source": [
    "dataset_validation = tf.keras.preprocessing.image_dataset_from_directory(\n",
    "    'cats_and_dogs_filtered/validation',\n",
    "    image_size = image_size\n",
    ")"
   ]
  },
  {
   "cell_type": "code",
   "execution_count": null,
   "id": "ffc78882-d96c-4159-8173-086f9612280f",
   "metadata": {},
   "outputs": [],
   "source": [
    "dataset_validation_cardinality = tf.data.experimental.cardinality(dataset_validation)\n",
    "dataset_validation_batches = dataset_validation_cardinality // 5\n",
    "\n",
    "dataset_test = dataset_validation.take(dataset_validation_batches)\n",
    "dataset_validation = dataset_validation.skip(dataset_validation_batches)"
   ]
  },
  {
   "cell_type": "code",
   "execution_count": null,
   "id": "e9f39f7a-53e5-4895-84e9-291b6a9e510b",
   "metadata": {},
   "outputs": [],
   "source": [
    "def plot_dataset(dataset):\n",
    "\n",
    "    plt.gcf().clear()\n",
    "    plt.figure(figsize = (15, 15))\n",
    "\n",
    "    for features, labels in dataset.take(1):\n",
    "\n",
    "        for i in range(9):\n",
    "\n",
    "            plt.subplot(3, 3, i + 1)\n",
    "            plt.axis('off')\n",
    "\n",
    "            plt.imshow(features[i].numpy().astype('uint8'))\n",
    "            plt.title(class_names[labels[i]])"
   ]
  },
  {
   "cell_type": "code",
   "execution_count": null,
   "id": "6f217b20-f882-431f-9fa0-bfde04fa7b80",
   "metadata": {},
   "outputs": [],
   "source": [
    "plot_dataset(dataset_train)"
   ]
  },
  {
   "cell_type": "code",
   "execution_count": null,
   "id": "f118ea09-8f9a-498e-98b4-62eb122f46f0",
   "metadata": {},
   "outputs": [],
   "source": [
    "model = tf.keras.models.Sequential([\n",
    "    tf.keras.layers.Rescaling(1. / 3, input_shape = image_shape),\n",
    "    tf.keras.layers.Conv2D(16, 3, activation = 'relu'),\n",
    "    tf.keras.layers.MaxPooling2D(),\n",
    "    tf.keras.layers.Conv2D(32, 3, activation = 'relu'),\n",
    "    tf.keras.layers.MaxPooling2D(),\n",
    "    tf.keras.layers.Conv2D(64, 3, activation = 'relu'),\n",
    "    tf.keras.layers.MaxPooling2D(),\n",
    "    tf.keras.layers.Flatten(),\n",
    "    tf.keras.layers.Dense(128, activation = 'relu'),\n",
    "    tf.keras.layers.Dense(1, activation = 'sigmoid')\n",
    "])\n",
    "\n",
    "model.compile(loss = 'binary_crossentropy', optimizer = 'adam', metrics = ['accuracy'])"
   ]
  },
  {
   "cell_type": "code",
   "execution_count": null,
   "id": "ff133494-cd34-47af-bc4c-9394ed808141",
   "metadata": {},
   "outputs": [],
   "source": [
    "history = model.fit(\n",
    "    dataset_train,\n",
    "    validation_data = dataset_validation,\n",
    "    epochs = 5\n",
    ")"
   ]
  },
  {
   "cell_type": "code",
   "execution_count": null,
   "id": "508c7e97-124b-4301-a595-b2a4de903c89",
   "metadata": {},
   "outputs": [],
   "source": [
    "def plot_model_history(history):\n",
    "\n",
    "    accuracy = history.history['accuracy']\n",
    "    val_accuracy = history.history['val_accuracy']\n",
    "\n",
    "    loss = history.history['loss']\n",
    "    val_loss = history.history['val_loss']\n",
    "\n",
    "    epochs_range = range(5)\n",
    "\n",
    "    plt.gcf().clear()\n",
    "    plt.figure(figsize = (15, 8))\n",
    "\n",
    "    plt.subplot(1, 2, 1)\n",
    "    plt.title('Training and Validation Accuracy')\n",
    "    plt.plot(epochs_range, accuracy, label = 'Training Accuracy')\n",
    "    plt.plot(epochs_range, val_accuracy, label = 'Validation Accuracy')\n",
    "    plt.legend(loc = 'lower right')\n",
    "\n",
    "    plt.subplot(1, 2, 2)\n",
    "    plt.title('Training and Validation Loss')\n",
    "    plt.plot(epochs_range, loss, label = 'Training Loss')\n",
    "    plt.plot(epochs_range, val_loss, label = 'Validation Loss')\n",
    "    plt.legend(loc = 'lower right')\n",
    "\n",
    "    plt.show()"
   ]
  },
  {
   "cell_type": "code",
   "execution_count": null,
   "id": "6e7fa5c9-7f33-4bde-9207-5fa131c8f984",
   "metadata": {},
   "outputs": [],
   "source": [
    "plot_model_history(history)"
   ]
  },
  {
   "cell_type": "code",
   "execution_count": null,
   "id": "a753887a-22a2-4d7c-8ff9-e0da445c5306",
   "metadata": {},
   "outputs": [],
   "source": [
    "def plot_model_predictions(model, dataset):\n",
    "\n",
    "    features, labels = dataset_test.as_numpy_iterator().next()\n",
    "\n",
    "    predictions = model.predict_on_batch(features).flatten()\n",
    "    predictions = tf.where(predictions < 0.5, 0, 1)\n",
    "\n",
    "    print('Labels:      %s' % labels)\n",
    "    print('Predictions: %s' % predictions.numpy())\n",
    "\n",
    "    plt.gcf().clear()\n",
    "    plt.figure(figsize = (15, 15))\n",
    "\n",
    "    for i in range(9):\n",
    "\n",
    "        plt.subplot(3, 3, i + 1)\n",
    "        plt.axis('off')\n",
    "\n",
    "        plt.imshow(features[i].astype('uint8'))\n",
    "        plt.title(class_names[predictions[i]])"
   ]
  },
  {
   "cell_type": "code",
   "execution_count": null,
   "id": "dfa46b6e-5337-44a9-af35-ecb5eaf8cd88",
   "metadata": {},
   "outputs": [],
   "source": [
    "plot_model_predictions(model, dataset_test)"
   ]
  }
 ],
 "metadata": {
  "kernelspec": {
   "display_name": "Python 3 (ipykernel)",
   "language": "python",
   "name": "python3"
  },
  "language_info": {
   "codemirror_mode": {
    "name": "ipython",
    "version": 3
   },
   "file_extension": ".py",
   "mimetype": "text/x-python",
   "name": "python",
   "nbconvert_exporter": "python",
   "pygments_lexer": "ipython3",
   "version": "3.8.8"
  }
 },
 "nbformat": 4,
 "nbformat_minor": 5
}
