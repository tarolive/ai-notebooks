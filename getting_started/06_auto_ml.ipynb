{
 "cells": [
  {
   "cell_type": "code",
   "execution_count": null,
   "id": "431a2b03-9357-44ed-84c7-54dd1867dae0",
   "metadata": {},
   "outputs": [],
   "source": [
    "!pip install tpot numpy sklearn"
   ]
  },
  {
   "cell_type": "code",
   "execution_count": null,
   "id": "63af853c-fe68-4afe-85c6-fb4c210db2ba",
   "metadata": {},
   "outputs": [],
   "source": [
    "from tpot import TPOTClassifier\n",
    "\n",
    "import numpy as np\n",
    "\n",
    "from sklearn.datasets import load_iris\n",
    "from sklearn.model_selection import train_test_split"
   ]
  },
  {
   "cell_type": "markdown",
   "id": "6464ed7b-7eea-4f27-8f9c-9bfe5253b9f2",
   "metadata": {},
   "source": [
    "1. sepal length in cm\n",
    "2. sepal width in cm\n",
    "3. petal length in cm\n",
    "4. petal width in cm\n",
    "5. class:\n",
    "-- Iris Setosa\n",
    "-- Iris Versicolour\n",
    "-- Iris Virginica"
   ]
  },
  {
   "cell_type": "code",
   "execution_count": null,
   "id": "1360e063-03b1-44f9-a292-4d73bb9356af",
   "metadata": {},
   "outputs": [],
   "source": [
    "dataset = load_iris()\n",
    "dataset"
   ]
  },
  {
   "cell_type": "code",
   "execution_count": null,
   "id": "a8f3284f-3d31-419d-ba68-23ad07c25d1c",
   "metadata": {},
   "outputs": [],
   "source": [
    "X_train, X_test, y_train, y_test = train_test_split(\n",
    "    dataset.data.astype(np.float64),\n",
    "    dataset.target.astype(np.float64),\n",
    "    train_size = 0.75,\n",
    "    test_size = 0.25,\n",
    "    random_state = 42\n",
    ")"
   ]
  },
  {
   "cell_type": "code",
   "execution_count": null,
   "id": "2120ee93-9d5c-4bc3-9892-64c962d575df",
   "metadata": {},
   "outputs": [],
   "source": [
    "autoML = TPOTClassifier(\n",
    "    generations = 5,\n",
    "    population_size = 50,\n",
    "    verbosity = 2,\n",
    "    random_state = 42\n",
    ")"
   ]
  },
  {
   "cell_type": "code",
   "execution_count": null,
   "id": "ba912c07-ce2f-441f-8ffe-1d73cf7dc500",
   "metadata": {},
   "outputs": [],
   "source": [
    "autoML.fit(X_train, y_train)"
   ]
  },
  {
   "cell_type": "code",
   "execution_count": null,
   "id": "f5753cc7-6e15-4384-8fe4-c815ce28aa35",
   "metadata": {},
   "outputs": [],
   "source": [
    "autoML.score(X_test, y_test)"
   ]
  }
 ],
 "metadata": {
  "kernelspec": {
   "display_name": "Python 3 (ipykernel)",
   "language": "python",
   "name": "python3"
  },
  "language_info": {
   "codemirror_mode": {
    "name": "ipython",
    "version": 3
   },
   "file_extension": ".py",
   "mimetype": "text/x-python",
   "name": "python",
   "nbconvert_exporter": "python",
   "pygments_lexer": "ipython3",
   "version": "3.8.8"
  }
 },
 "nbformat": 4,
 "nbformat_minor": 5
}
