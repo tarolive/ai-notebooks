{
 "cells": [
  {
   "cell_type": "code",
   "execution_count": null,
   "id": "ffc746dc-d3c9-477e-8ac6-158898365b4b",
   "metadata": {},
   "outputs": [],
   "source": [
    "!pip install tensorflow pandas numpy sklearn matplotlib"
   ]
  },
  {
   "cell_type": "code",
   "execution_count": null,
   "id": "c004aa62-70c4-409b-8328-2cb5927a8560",
   "metadata": {},
   "outputs": [],
   "source": [
    "import tensorflow as tf\n",
    "import pandas as pd\n",
    "import numpy as np\n",
    "import matplotlib.pyplot as plt\n",
    "\n",
    "from sklearn.model_selection import train_test_split\n",
    "from sklearn.metrics import accuracy_score, precision_score, recall_score"
   ]
  },
  {
   "cell_type": "code",
   "execution_count": null,
   "id": "0432112f-0ade-48dc-85d9-0d5fe6618188",
   "metadata": {},
   "outputs": [],
   "source": [
    "ecg_data = pd.read_csv('http://storage.googleapis.com/download.tensorflow.org/data/ecg.csv', header = None)\n",
    "ecg_data.head()"
   ]
  },
  {
   "cell_type": "code",
   "execution_count": null,
   "id": "78da0168-ff7e-4ce0-992c-38e061db58f4",
   "metadata": {},
   "outputs": [],
   "source": [
    "data = ecg_data.values\n",
    "\n",
    "features = data[:, 0:-1]\n",
    "labels = data[:, -1]\n",
    "\n",
    "features_train, features_test, labels_train, labels_test = train_test_split(features, labels, test_size = 0.2)"
   ]
  },
  {
   "cell_type": "code",
   "execution_count": null,
   "id": "b74d9131-a0d7-45a6-af83-8112c980e33b",
   "metadata": {},
   "outputs": [],
   "source": [
    "value_min = tf.reduce_min(features_train)\n",
    "value_max = tf.reduce_max(features_train)\n",
    "value_dif = value_max - value_min\n",
    "\n",
    "features_train = (features_train - value_min) / value_dif\n",
    "features_test = (features_test - value_min) / value_dif\n",
    "\n",
    "features_train = tf.cast(features_train, tf.float32)\n",
    "features_test = tf.cast(features_test, tf.float32)"
   ]
  },
  {
   "cell_type": "code",
   "execution_count": null,
   "id": "ddf859b7-83f5-48c1-9a60-3aaa262c707e",
   "metadata": {},
   "outputs": [],
   "source": [
    "labels_train = labels_train.astype(bool)\n",
    "labels_test = labels_test.astype(bool)\n",
    "\n",
    "features_train_normal = features_train[labels_train]\n",
    "features_test_normal = features_test[labels_test]\n",
    "\n",
    "features_train_anomalous = features_train[~labels_train]\n",
    "features_test_anomalous = features_test[~labels_test]"
   ]
  },
  {
   "cell_type": "code",
   "execution_count": null,
   "id": "1bc9aef3-f5d6-4d39-a154-a756ebf5f2a3",
   "metadata": {},
   "outputs": [],
   "source": [
    "plt.grid()\n",
    "plt.plot(np.arange(140), features_train_normal[0])\n",
    "plt.title('A Normal ECG')\n",
    "plt.show()"
   ]
  },
  {
   "cell_type": "code",
   "execution_count": null,
   "id": "607f300f-125d-47a3-9070-df1043b1835b",
   "metadata": {},
   "outputs": [],
   "source": [
    "plt.grid()\n",
    "plt.plot(np.arange(140), features_train_anomalous[0])\n",
    "plt.title('An Anomalous ECG')\n",
    "plt.show()"
   ]
  },
  {
   "cell_type": "code",
   "execution_count": null,
   "id": "9ff4e3aa-0386-4955-a2fb-7273522d41db",
   "metadata": {},
   "outputs": [],
   "source": [
    "class AnomalyDetector(tf.keras.models.Model):\n",
    "\n",
    "    def __init__(self):\n",
    "\n",
    "        super(AnomalyDetector, self).__init__()\n",
    "\n",
    "        self.encoder = tf.keras.Sequential([\n",
    "            tf.keras.layers.Dense(32, activation = 'relu'),\n",
    "            tf.keras.layers.Dense(16, activation = 'relu'),\n",
    "            tf.keras.layers.Dense(8, activation = 'relu')\n",
    "        ])\n",
    "\n",
    "        self.decoder = tf.keras.Sequential([\n",
    "            tf.keras.layers.Dense(16, activation = 'relu'),\n",
    "            tf.keras.layers.Dense(32, activation = 'relu'),\n",
    "            tf.keras.layers.Dense(140, activation = 'sigmoid'),\n",
    "        ])\n",
    "\n",
    "    def call(self, data):\n",
    "\n",
    "        encoded = self.encoder(data)\n",
    "        decoded = self.decoder(encoded)\n",
    "\n",
    "        return decoded"
   ]
  },
  {
   "cell_type": "code",
   "execution_count": null,
   "id": "d0eb517a-b00e-46b1-bff6-b84f7525ee60",
   "metadata": {},
   "outputs": [],
   "source": [
    "anomalyDetector = AnomalyDetector()\n",
    "anomalyDetector.compile(loss = 'mae', optimizer = 'adam')"
   ]
  },
  {
   "cell_type": "code",
   "execution_count": null,
   "id": "bd902fcf-b824-4c70-955d-df197ed18671",
   "metadata": {},
   "outputs": [],
   "source": [
    "history = anomalyDetector.fit(\n",
    "    features_train_normal,\n",
    "    features_train_normal,\n",
    "    epochs = 20,\n",
    "    batch_size = 512,\n",
    "    validation_data = (features_test, features_test),\n",
    "    shuffle = True\n",
    ")"
   ]
  },
  {
   "cell_type": "code",
   "execution_count": null,
   "id": "fa176cec-163b-44ef-b53d-e75296cbe07e",
   "metadata": {},
   "outputs": [],
   "source": [
    "plt.plot(history.history['loss'], label = 'Training Loss')\n",
    "plt.plot(history.history['val_loss'], label = 'Validation Loss')\n",
    "plt.legend()"
   ]
  },
  {
   "cell_type": "code",
   "execution_count": null,
   "id": "3a117bce-2c8a-4c03-acfd-9bd68030b26d",
   "metadata": {},
   "outputs": [],
   "source": [
    "encoded_data = anomalyDetector.encoder(features_test_normal).numpy()\n",
    "decoded_data = anomalyDetector.decoder(encoded_data).numpy()\n",
    "\n",
    "plt.plot(features_test_normal[0], 'b')\n",
    "plt.plot(decoded_data[0], 'r')\n",
    "plt.fill_between(np.arange(140), decoded_data[0], features_test_normal[0], color = 'lightcoral')\n",
    "plt.legend(labels = ['Input', 'Reconstruction', 'Error'])\n",
    "plt.show()"
   ]
  },
  {
   "cell_type": "code",
   "execution_count": null,
   "id": "614b645c-d8b3-4403-b1e9-5de32f934c36",
   "metadata": {},
   "outputs": [],
   "source": [
    "encoded_data = anomalyDetector.encoder(features_test_anomalous).numpy()\n",
    "decoded_data = anomalyDetector.decoder(encoded_data).numpy()\n",
    "\n",
    "plt.plot(features_test_anomalous[0], 'b')\n",
    "plt.plot(decoded_data[0], 'r')\n",
    "plt.fill_between(np.arange(140), decoded_data[0], features_test_anomalous[0], color = 'lightcoral')\n",
    "plt.legend(labels = ['Input', 'Reconstruction', 'Error'])\n",
    "plt.show()"
   ]
  },
  {
   "cell_type": "code",
   "execution_count": null,
   "id": "fc545f7b-11e7-4ac2-9ce5-4a2fe65a852a",
   "metadata": {},
   "outputs": [],
   "source": [
    "reconstructions = anomalyDetector.predict(features_train_normal)\n",
    "train_loss = tf.keras.losses.mae(reconstructions, features_train_normal)\n",
    "\n",
    "plt.hist(train_loss[None, :], bins = 50)\n",
    "plt.xlabel('Train loss')\n",
    "plt.ylabel('No of examples')\n",
    "plt.show()"
   ]
  },
  {
   "cell_type": "code",
   "execution_count": null,
   "id": "1e7c64a2-ebdb-4140-95c6-4be5fd7d5c14",
   "metadata": {},
   "outputs": [],
   "source": [
    "threshold = np.mean(train_loss) + np.std(train_loss)\n",
    "print('Threshold: ', threshold)"
   ]
  },
  {
   "cell_type": "code",
   "execution_count": null,
   "id": "966fd607-8e7f-4ed0-9ed2-5e07a5ebaa16",
   "metadata": {},
   "outputs": [],
   "source": [
    "reconstructions = anomalyDetector.predict(features_test_anomalous)\n",
    "test_loss = tf.keras.losses.mae(reconstructions, features_test_anomalous)\n",
    "\n",
    "plt.hist(test_loss[None, :], bins = 50)\n",
    "plt.xlabel('Test loss')\n",
    "plt.ylabel('No of examples')\n",
    "plt.show()"
   ]
  },
  {
   "cell_type": "code",
   "execution_count": null,
   "id": "b30079fe-8844-4d45-94d3-065a93480fe3",
   "metadata": {},
   "outputs": [],
   "source": [
    "def predict(model, data, threshold):\n",
    "\n",
    "    reconstructions = model(data)\n",
    "    loss = tf.keras.losses.mae(reconstructions, data)\n",
    "\n",
    "    return tf.math.less(loss, threshold)\n",
    "\n",
    "def print_stats(predictions, labels):\n",
    "\n",
    "    print('Accuracy: {}'.format(accuracy_score(labels, predictions)))\n",
    "    print('Precision: {}'.format(precision_score(labels, predictions)))\n",
    "    print('Recall: {}'.format(recall_score(labels, predictions)))"
   ]
  },
  {
   "cell_type": "code",
   "execution_count": null,
   "id": "fd1ffa2b-9980-4ebf-8d5d-24b22ed70746",
   "metadata": {},
   "outputs": [],
   "source": [
    "predictions = predict(anomalyDetector, features_test, threshold)\n",
    "print_stats(predictions, labels_test)"
   ]
  }
 ],
 "metadata": {
  "kernelspec": {
   "display_name": "Python 3 (ipykernel)",
   "language": "python",
   "name": "python3"
  },
  "language_info": {
   "codemirror_mode": {
    "name": "ipython",
    "version": 3
   },
   "file_extension": ".py",
   "mimetype": "text/x-python",
   "name": "python",
   "nbconvert_exporter": "python",
   "pygments_lexer": "ipython3",
   "version": "3.8.8"
  }
 },
 "nbformat": 4,
 "nbformat_minor": 5
}
