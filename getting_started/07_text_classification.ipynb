{
 "cells": [
  {
   "cell_type": "code",
   "execution_count": null,
   "id": "7c4f20b5-059a-42d0-89ce-b0fe42c2ab02",
   "metadata": {},
   "outputs": [],
   "source": [
    "!pip install tensorflow tensorflow_hub pandas matplotlib"
   ]
  },
  {
   "cell_type": "code",
   "execution_count": null,
   "id": "46167e86-5516-4a62-beb5-ec29a700708a",
   "metadata": {},
   "outputs": [],
   "source": [
    "import tensorflow as tf\n",
    "import tensorflow_hub as hub\n",
    "import pandas as pd\n",
    "import matplotlib.pyplot as plt"
   ]
  },
  {
   "cell_type": "code",
   "execution_count": null,
   "id": "81b349b0-f0e6-4517-ab74-b3e5990762d2",
   "metadata": {},
   "outputs": [],
   "source": [
    "def read_dataset(dataset_name):\n",
    "\n",
    "    dataset_url = 'https://raw.githubusercontent.com/diptamath/covid_fake_news/main/data'\n",
    "    dataset_columns = ['id', 'features', 'labels']\n",
    "    dataset_offset = 1\n",
    "\n",
    "    return pd.read_csv(dataset_url + dataset_name, names = dataset_columns, skiprows = lambda index : index < dataset_offset)"
   ]
  },
  {
   "cell_type": "code",
   "execution_count": null,
   "id": "85469789-f7db-4688-bee1-fb517c3e578c",
   "metadata": {},
   "outputs": [],
   "source": [
    "dataset_train = read_dataset('/Constraint_Train.csv')\n",
    "dataset_train.head()"
   ]
  },
  {
   "cell_type": "code",
   "execution_count": null,
   "id": "2fae953a-0058-46b4-8b80-2b84b7688f7b",
   "metadata": {},
   "outputs": [],
   "source": [
    "dataset_test = read_dataset('/english_test_with_labels.csv')\n",
    "dataset_test.head()"
   ]
  },
  {
   "cell_type": "code",
   "execution_count": null,
   "id": "91caa08f-daf3-41bb-84fb-9b57bae07f21",
   "metadata": {},
   "outputs": [],
   "source": [
    "dataset_val = read_dataset('/Constraint_Val.csv')\n",
    "dataset_val.head()"
   ]
  },
  {
   "cell_type": "code",
   "execution_count": null,
   "id": "b165bea6-3d5e-401c-8aea-56b497c4f9bb",
   "metadata": {},
   "outputs": [],
   "source": [
    "def transform(label):\n",
    "\n",
    "    return 1 if label == 'fake' else 0\n",
    "\n",
    "def inverse_transform(value):\n",
    "\n",
    "    return 'fake' if value >= 0.5 else 'real'"
   ]
  },
  {
   "cell_type": "code",
   "execution_count": null,
   "id": "861572df-9130-4fff-8b0b-bec5c4aed1bc",
   "metadata": {},
   "outputs": [],
   "source": [
    "dataset_train.pop('id')\n",
    "dataset_test.pop('id')\n",
    "dataset_val.pop('id')\n",
    "\n",
    "dataset_train['labels'] = [transform(label) for label in dataset_train['labels']]\n",
    "dataset_test['labels'] = [transform(label) for label in dataset_test['labels']]\n",
    "dataset_val['labels'] = [transform(label) for label in dataset_val['labels']]\n",
    "\n",
    "print(dataset_train)"
   ]
  },
  {
   "cell_type": "code",
   "execution_count": null,
   "id": "e041e244-e0d2-48f1-a70c-fee9e075e616",
   "metadata": {},
   "outputs": [],
   "source": [
    "embedding_layer_name = 'https://tfhub.dev/google/nnlm-en-dim128/2'\n",
    "embedding_layer = hub.KerasLayer(embedding_layer_name, input_shape = [], dtype = tf.string, trainable = False)\n",
    "\n",
    "embedding_layer(dataset_train['features'])"
   ]
  },
  {
   "cell_type": "code",
   "execution_count": null,
   "id": "210d4dd6-185b-4a41-8d7c-6b044936ae57",
   "metadata": {},
   "outputs": [],
   "source": [
    "model = tf.keras.Sequential([\n",
    "    embedding_layer,\n",
    "    tf.keras.layers.Dense(16, activation = 'relu'),\n",
    "    tf.keras.layers.Dense(1, activation = 'sigmoid')\n",
    "])\n",
    "\n",
    "model.compile(optimizer = tf.keras.optimizers.Adam(), loss = tf.keras.losses.BinaryCrossentropy(from_logits = False), metrics = ['accuracy'])"
   ]
  },
  {
   "cell_type": "code",
   "execution_count": null,
   "id": "99fab03f-c961-4f64-b3e8-5d629c6fb516",
   "metadata": {},
   "outputs": [],
   "source": [
    "history = model.fit(\n",
    "    dataset_train['features'],\n",
    "    dataset_train['labels'],\n",
    "    batch_size = 512,\n",
    "    validation_data = (dataset_val['features'], dataset_val['labels']),\n",
    "    validation_batch_size = 512,\n",
    "    epochs = 30,\n",
    "    verbose = 1\n",
    ")"
   ]
  },
  {
   "cell_type": "code",
   "execution_count": null,
   "id": "9e930996-2e59-4f92-a7e1-7c1021738e73",
   "metadata": {},
   "outputs": [],
   "source": [
    "history_dict = history.history\n",
    "\n",
    "accuracy = history_dict['accuracy']\n",
    "val_accuracy = history_dict['val_accuracy']\n",
    "loss = history_dict['loss']\n",
    "val_loss = history_dict['val_loss']\n",
    "\n",
    "epochs = range(1, len(accuracy) + 1)\n",
    "\n",
    "plt.title('Training and Validation Loss')\n",
    "plt.xlabel('Epochs')\n",
    "plt.ylabel('Loss')\n",
    "plt.plot(epochs, loss, 'bo', label = 'Training Loss')\n",
    "plt.plot(epochs, val_loss, 'r', label = 'Validation Loss')\n",
    "plt.legend()\n",
    "\n",
    "plt.show()"
   ]
  },
  {
   "cell_type": "code",
   "execution_count": null,
   "id": "985afd5b-02fb-49fd-90da-cd5c58c54a8e",
   "metadata": {},
   "outputs": [],
   "source": [
    "model.evaluate(\n",
    "    dataset_test['features'],\n",
    "    dataset_test['labels'],\n",
    "    verbose = 1\n",
    ")"
   ]
  },
  {
   "cell_type": "code",
   "execution_count": null,
   "id": "09f4f742-72a0-4815-bd51-9b694512dd4d",
   "metadata": {},
   "outputs": [],
   "source": [
    "def predict(inputs):\n",
    "\n",
    "    outputs = model.predict(inputs)\n",
    "\n",
    "    for i, o in zip(inputs, outputs):\n",
    "\n",
    "        print(f'Input: {i}')\n",
    "        print(f'Output Score: {o[0]} | Output Label: {inverse_transform(o[0])}')"
   ]
  },
  {
   "cell_type": "code",
   "execution_count": null,
   "id": "5d62692b-639c-4013-85f6-78051c16a28d",
   "metadata": {},
   "outputs": [],
   "source": [
    "inputs = [\n",
    "    'The Chinese government announced that \"garlic is a preventative food for the the novel coronavirus.\"',\n",
    "    'Mass disinfection of people using a chemical solution will eradicate COVID-19.',\n",
    "    'The coronavirus was engineered by scientists in a lab.',\n",
    "    'Practice social distancing to slow the spread of covid.',\n",
    "    'Wear a mask in public to help prevent the virus.', # most sentences in the dataset using the word \"mask\" is fake\n",
    "    'Fever and difficulty breathing are symptoms of coronavirus.',\n",
    "    'Hydroxychloroquine is the cure for coronavirus.'\n",
    "]\n",
    "\n",
    "predict(inputs)"
   ]
  }
 ],
 "metadata": {
  "kernelspec": {
   "display_name": "Python 3 (ipykernel)",
   "language": "python",
   "name": "python3"
  },
  "language_info": {
   "codemirror_mode": {
    "name": "ipython",
    "version": 3
   },
   "file_extension": ".py",
   "mimetype": "text/x-python",
   "name": "python",
   "nbconvert_exporter": "python",
   "pygments_lexer": "ipython3",
   "version": "3.8.8"
  }
 },
 "nbformat": 4,
 "nbformat_minor": 5
}
