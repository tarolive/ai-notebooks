{
 "cells": [
  {
   "cell_type": "markdown",
   "id": "d168d11d-f309-490e-86e3-2b0b38bf7219",
   "metadata": {},
   "source": [
    "### DATASET"
   ]
  },
  {
   "cell_type": "code",
   "execution_count": null,
   "id": "73cf6931-96f0-41fd-b7fd-38a9a02aac0f",
   "metadata": {},
   "outputs": [],
   "source": [
    "!wget https://storage.googleapis.com/mledu-datasets/cats_and_dogs_filtered.zip"
   ]
  },
  {
   "cell_type": "code",
   "execution_count": null,
   "id": "5fe417e7-4ff3-4d0d-bf07-bc32fb36e5bf",
   "metadata": {},
   "outputs": [],
   "source": [
    "!unzip cats_and_dogs_filtered.zip"
   ]
  },
  {
   "cell_type": "code",
   "execution_count": null,
   "id": "07511465-b050-4d32-85f9-d6f9d69e1f7c",
   "metadata": {},
   "outputs": [],
   "source": [
    "!rm -rf cats_and_dogs_filtered.zip"
   ]
  },
  {
   "cell_type": "code",
   "execution_count": null,
   "id": "8a41804b-f5c9-47e8-9df7-717ea17c0896",
   "metadata": {},
   "outputs": [],
   "source": [
    "!pip install tensorflow"
   ]
  },
  {
   "cell_type": "code",
   "execution_count": null,
   "id": "c65a1311-5b74-43db-8c1d-6295a2413224",
   "metadata": {},
   "outputs": [],
   "source": [
    "import os\n",
    "import matplotlib.pyplot as plt\n",
    "import tensorflow as tf"
   ]
  },
  {
   "cell_type": "code",
   "execution_count": null,
   "id": "0d62b555-ca7d-4724-8d57-8264570f1a32",
   "metadata": {},
   "outputs": [],
   "source": [
    "dataset_dir = os.path.join(os.getcwd(), 'cats_and_dogs_filtered')\n",
    "\n",
    "dataset_train_dir = os.path.join(dataset_dir, 'train')\n",
    "dataset_train_cats_len = len(os.listdir(os.path.join(dataset_train_dir, 'cats')))\n",
    "dataset_train_dogs_len = len(os.listdir(os.path.join(dataset_train_dir, 'dogs')))\n",
    "\n",
    "dataset_validation_dir = os.path.join(dataset_dir, 'validation')\n",
    "dataset_validation_cats_len = len(os.listdir(os.path.join(dataset_validation_dir, 'cats')))\n",
    "dataset_validation_dogs_len = len(os.listdir(os.path.join(dataset_validation_dir, 'dogs')))\n",
    "\n",
    "print('Train Cats: %s' % dataset_train_cats_len)\n",
    "print('Train Dogs: %s' % dataset_train_dogs_len)\n",
    "print('Validation Cats: %s' % dataset_validation_cats_len)\n",
    "print('Validation Dogs: %s' % dataset_validation_dogs_len)"
   ]
  },
  {
   "cell_type": "code",
   "execution_count": null,
   "id": "9d9d8fe5-8b6c-4a44-bfba-fd00e65504c6",
   "metadata": {},
   "outputs": [],
   "source": [
    "image_width = 160\n",
    "image_height = 160\n",
    "image_color_channel = 3\n",
    "image_color_channel_size = 255\n",
    "image_size = (image_width, image_height)\n",
    "image_shape = image_size + (image_color_channel,)\n",
    "\n",
    "batch_size = 32\n",
    "epochs = 20\n",
    "learning_rate = 0.0001\n",
    "\n",
    "class_names = ['cat', 'dog']"
   ]
  },
  {
   "cell_type": "code",
   "execution_count": null,
   "id": "8f6d1d65-4b1a-4317-aba9-a5c36d9102d1",
   "metadata": {},
   "outputs": [],
   "source": [
    "dataset_train = tf.keras.preprocessing.image_dataset_from_directory(\n",
    "    dataset_train_dir,\n",
    "    image_size = image_size,\n",
    "    batch_size = batch_size,\n",
    "    shuffle = True\n",
    ")"
   ]
  },
  {
   "cell_type": "code",
   "execution_count": null,
   "id": "1a1e3d14-7f0e-49d1-ad52-0414a5b25092",
   "metadata": {},
   "outputs": [],
   "source": [
    "dataset_validation = tf.keras.preprocessing.image_dataset_from_directory(\n",
    "    dataset_validation_dir,\n",
    "    image_size = (image_width, image_height),\n",
    "    batch_size = batch_size,\n",
    "    shuffle = True\n",
    ")"
   ]
  },
  {
   "cell_type": "code",
   "execution_count": null,
   "id": "684f9598-da40-46ec-bfc6-6f6f3a541961",
   "metadata": {},
   "outputs": [],
   "source": [
    "dataset_validation_cardinality = tf.data.experimental.cardinality(dataset_validation)\n",
    "dataset_validation_batches = dataset_validation_cardinality // 5\n",
    "\n",
    "dataset_test = dataset_validation.take(dataset_validation_batches)\n",
    "dataset_validation = dataset_validation.skip(dataset_validation_batches)\n",
    "\n",
    "print('Validation Dataset Cardinality: %d' % tf.data.experimental.cardinality(dataset_validation))\n",
    "print('Test Dataset Cardinality: %d' % tf.data.experimental.cardinality(dataset_test))"
   ]
  },
  {
   "cell_type": "code",
   "execution_count": null,
   "id": "79ab1155-5fda-4e22-af9d-ee1c18a88ddf",
   "metadata": {},
   "outputs": [],
   "source": [
    "autotune = tf.data.AUTOTUNE\n",
    "\n",
    "dataset_train = dataset_train.prefetch(buffer_size = autotune)\n",
    "dataset_validation = dataset_validation.prefetch(buffer_size = autotune)\n",
    "dataset_test = dataset_validation.prefetch(buffer_size = autotune)"
   ]
  },
  {
   "cell_type": "code",
   "execution_count": null,
   "id": "639cd619-0483-429e-94c4-ace543771a25",
   "metadata": {},
   "outputs": [],
   "source": [
    "def plot_dataset(dataset):\n",
    "\n",
    "    plt.gcf().clear()\n",
    "    plt.figure(figsize = (15, 15))\n",
    "\n",
    "    for features, labels in dataset.take(1):\n",
    "\n",
    "        for i in range(9):\n",
    "\n",
    "            plt.subplot(3, 3, i + 1)\n",
    "            plt.axis('off')\n",
    "\n",
    "            plt.imshow(features[i].numpy().astype('uint8'))\n",
    "            plt.title(class_names[labels[i]])"
   ]
  },
  {
   "cell_type": "code",
   "execution_count": null,
   "id": "a6967563-cbc7-452f-a253-e76b2a33fff5",
   "metadata": {},
   "outputs": [],
   "source": [
    "plot_dataset(dataset_train)"
   ]
  },
  {
   "cell_type": "code",
   "execution_count": null,
   "id": "5931957a-cc84-465d-b73e-e3214d0b3a00",
   "metadata": {},
   "outputs": [],
   "source": [
    "plot_dataset(dataset_validation)"
   ]
  },
  {
   "cell_type": "code",
   "execution_count": null,
   "id": "48cb4ee6-6f6c-4de5-8b07-aee5f30013c2",
   "metadata": {},
   "outputs": [],
   "source": [
    "plot_dataset(dataset_test)"
   ]
  },
  {
   "cell_type": "markdown",
   "id": "11f32cec-305d-4621-b765-45438794ad48",
   "metadata": {},
   "source": [
    "### DATA AUGMENTATION"
   ]
  },
  {
   "cell_type": "code",
   "execution_count": null,
   "id": "7fda2ec7-cfa4-490b-bcce-811f434d2342",
   "metadata": {},
   "outputs": [],
   "source": [
    "data_augmentation = tf.keras.models.Sequential([\n",
    "    tf.keras.layers.experimental.preprocessing.RandomFlip('horizontal'),\n",
    "    tf.keras.layers.experimental.preprocessing.RandomRotation(0.2),\n",
    "    tf.keras.layers.experimental.preprocessing.RandomZoom(0.2)\n",
    "])"
   ]
  },
  {
   "cell_type": "code",
   "execution_count": null,
   "id": "75769312-ee64-4fdb-8558-45308e28a1b2",
   "metadata": {},
   "outputs": [],
   "source": [
    "def plot_dataset_data_augmentation(dataset):\n",
    "\n",
    "    plt.gcf().clear()\n",
    "    plt.figure(figsize = (15, 15))\n",
    "\n",
    "    for features, _ in dataset.take(1):\n",
    "\n",
    "        feature = features[0]\n",
    "\n",
    "        for i in range(9):\n",
    "\n",
    "            feature_data_augmentation = data_augmentation(tf.expand_dims(feature, 0))\n",
    "\n",
    "            plt.subplot(3, 3, i + 1)\n",
    "            plt.axis('off')\n",
    "\n",
    "            plt.imshow(feature_data_augmentation[0] / image_color_channel_size)"
   ]
  },
  {
   "cell_type": "code",
   "execution_count": null,
   "id": "b30e8161-a5ec-48b5-beb3-2ea333b8aced",
   "metadata": {},
   "outputs": [],
   "source": [
    "plot_dataset_data_augmentation(dataset_train)"
   ]
  },
  {
   "cell_type": "markdown",
   "id": "7e9eff1d-e7c9-41be-8087-356bd4ad346a",
   "metadata": {},
   "source": [
    "### LAYER RESCALING"
   ]
  },
  {
   "cell_type": "code",
   "execution_count": null,
   "id": "004af8c0-9e8e-49f3-9714-1685ff951573",
   "metadata": {},
   "outputs": [],
   "source": [
    "rescaling = tf.keras.layers.experimental.preprocessing.Rescaling(1. / (image_color_channel_size / 2.), offset = -1, input_shape = image_shape)"
   ]
  },
  {
   "cell_type": "markdown",
   "id": "4ad472ff-67ca-41fb-92c0-e38a293b1c10",
   "metadata": {},
   "source": [
    "### TRANSFER LEARNING"
   ]
  },
  {
   "cell_type": "code",
   "execution_count": null,
   "id": "ee3555f9-44d7-41cb-a208-c66a1badbe1f",
   "metadata": {},
   "outputs": [],
   "source": [
    "model_transfer_learning = tf.keras.applications.MobileNetV2(input_shape = image_shape, include_top = False, weights = 'imagenet')\n",
    "model_transfer_learning.trainable = False\n",
    "\n",
    "model_transfer_learning.summary()"
   ]
  },
  {
   "cell_type": "markdown",
   "id": "50565ae7-05b0-4372-a1d0-5bbf2975b33d",
   "metadata": {},
   "source": [
    "### EARLY STOPPING"
   ]
  },
  {
   "cell_type": "code",
   "execution_count": null,
   "id": "2f0b6bdb-99f8-4fe3-bc24-976806b20a1f",
   "metadata": {},
   "outputs": [],
   "source": [
    "early_stopping = tf.keras.callbacks.EarlyStopping(monitor = 'loss', patience = 3)"
   ]
  },
  {
   "cell_type": "markdown",
   "id": "2397c44f-7500-4671-962e-d8a5b8aa9eb9",
   "metadata": {},
   "source": [
    "### MODEL"
   ]
  },
  {
   "cell_type": "code",
   "execution_count": null,
   "id": "be621576-f728-4428-9da2-f0ba6b8498b2",
   "metadata": {},
   "outputs": [],
   "source": [
    "model = tf.keras.models.Sequential([\n",
    "    rescaling,\n",
    "    data_augmentation,\n",
    "    model_transfer_learning,\n",
    "    tf.keras.layers.GlobalAveragePooling2D(),\n",
    "    tf.keras.layers.Dropout(0.2),\n",
    "    tf.keras.layers.Dense(1, activation = 'sigmoid')\n",
    "])\n",
    "\n",
    "model.compile(\n",
    "    optimizer = tf.keras.optimizers.Adam(learning_rate = learning_rate),\n",
    "    loss = tf.keras.losses.BinaryCrossentropy(),\n",
    "    metrics = ['accuracy']\n",
    ")\n",
    "\n",
    "model.summary()"
   ]
  },
  {
   "cell_type": "code",
   "execution_count": null,
   "id": "1cb5031d-0664-443a-8a95-40ce7bf8fd2a",
   "metadata": {},
   "outputs": [],
   "source": [
    "history = model.fit(\n",
    "    dataset_train,\n",
    "    validation_data = dataset_validation,\n",
    "    epochs = epochs,\n",
    "    callbacks = [\n",
    "        early_stopping\n",
    "    ]\n",
    ")"
   ]
  },
  {
   "cell_type": "code",
   "execution_count": null,
   "id": "415619e9-97e4-4f1e-8240-b918379d1ed2",
   "metadata": {},
   "outputs": [],
   "source": [
    "def plot_model():\n",
    "\n",
    "    accuracy = history.history['accuracy']\n",
    "    val_accuracy = history.history['val_accuracy']\n",
    "\n",
    "    loss = history.history['loss']\n",
    "    val_loss = history.history['val_loss']\n",
    "\n",
    "    epochs_range = range(epochs)\n",
    "\n",
    "    plt.gcf().clear()\n",
    "    plt.figure(figsize = (15, 8))\n",
    "\n",
    "    plt.subplot(1, 2, 1)\n",
    "    plt.title('Training and Validation Accuracy')\n",
    "    plt.plot(epochs_range, accuracy, label = 'Training Accuracy')\n",
    "    plt.plot(epochs_range, val_accuracy, label = 'Validation Accuracy')\n",
    "    plt.legend(loc = 'lower right')\n",
    "\n",
    "    plt.subplot(1, 2, 2)\n",
    "    plt.title('Training and Validation Loss')\n",
    "    plt.plot(epochs_range, loss, label = 'Training Loss')\n",
    "    plt.plot(epochs_range, val_loss, label = 'Validation Loss')\n",
    "    plt.legend(loc = 'lower right')\n",
    "\n",
    "    plt.show()"
   ]
  },
  {
   "cell_type": "code",
   "execution_count": null,
   "id": "0fb6555c-6414-462f-a02e-fd3a15bf5dcc",
   "metadata": {},
   "outputs": [],
   "source": [
    "plot_model()"
   ]
  },
  {
   "cell_type": "markdown",
   "id": "6779d031-cbac-4191-8e08-1ad196e3f69d",
   "metadata": {},
   "source": [
    "### MODEL EVALUATION"
   ]
  },
  {
   "cell_type": "code",
   "execution_count": null,
   "id": "3bd2a8ac-eede-4d8d-9449-1d815ea727b0",
   "metadata": {},
   "outputs": [],
   "source": [
    "dataset_test_loss, dataset_test_accuracy = model.evaluate(dataset_test)\n",
    "\n",
    "print('Dataset Test Loss:     %s' % dataset_test_loss)\n",
    "print('Dataset Test Accuracy: %s' % dataset_test_accuracy)"
   ]
  },
  {
   "cell_type": "code",
   "execution_count": null,
   "id": "805b892c-05c8-423f-9c99-69504ccaa00c",
   "metadata": {},
   "outputs": [],
   "source": [
    "def plot_dataset_predictions(dataset):\n",
    "\n",
    "    features, labels = dataset_test.as_numpy_iterator().next()\n",
    "\n",
    "    predictions = model.predict_on_batch(features).flatten()\n",
    "    predictions = tf.where(predictions < 0.5, 0, 1)\n",
    "\n",
    "    print('Labels:      %s' % labels)\n",
    "    print('Predictions: %s' % predictions.numpy())\n",
    "\n",
    "    plt.gcf().clear()\n",
    "    plt.figure(figsize = (15, 15))\n",
    "\n",
    "    for i in range(9):\n",
    "\n",
    "        plt.subplot(3, 3, i + 1)\n",
    "        plt.axis('off')\n",
    "\n",
    "        plt.imshow(features[i].astype('uint8'))\n",
    "        plt.title(class_names[predictions[i]])"
   ]
  },
  {
   "cell_type": "code",
   "execution_count": null,
   "id": "75071109-66a9-4336-885f-16c13070e7d1",
   "metadata": {},
   "outputs": [],
   "source": [
    "plot_dataset_predictions(dataset_test)"
   ]
  },
  {
   "cell_type": "markdown",
   "id": "d3fcd9f2-a883-4d85-9796-9bb907691eee",
   "metadata": {},
   "source": [
    "### SAVE & LOAD"
   ]
  },
  {
   "cell_type": "code",
   "execution_count": null,
   "id": "aa0156fd-500f-44a8-a620-e93477212313",
   "metadata": {},
   "outputs": [],
   "source": [
    "model.save('model')"
   ]
  },
  {
   "cell_type": "code",
   "execution_count": null,
   "id": "c8bbc732-ecfa-4430-8d0e-cdbbc0e21041",
   "metadata": {},
   "outputs": [],
   "source": [
    "model = tf.keras.models.load_model('model')"
   ]
  },
  {
   "cell_type": "markdown",
   "id": "4561352a-d236-4860-801b-ff2a5289e2c9",
   "metadata": {},
   "source": [
    "### PREDICTIONS"
   ]
  },
  {
   "cell_type": "code",
   "execution_count": null,
   "id": "e9cb01ba-c88a-44f3-81d6-d0f1962ce2af",
   "metadata": {},
   "outputs": [],
   "source": [
    "def predict(image_file):\n",
    "\n",
    "    image = tf.keras.preprocessing.image.load_img(image_file, target_size = image_size)\n",
    "    image = tf.keras.preprocessing.image.img_to_array(image)\n",
    "    image = tf.expand_dims(image, 0)\n",
    "\n",
    "    prediction = model.predict(image)[0][0]\n",
    "\n",
    "    print('Prediction: {0} | {1}'.format(prediction, ('cat' if prediction < 0.5 else 'dog')))"
   ]
  },
  {
   "cell_type": "code",
   "execution_count": null,
   "id": "6bf2e8cb-3fc8-46cb-983f-018a88118585",
   "metadata": {},
   "outputs": [],
   "source": [
    "def predict_url(image_fname, image_origin):\n",
    "\n",
    "    image_file = tf.keras.utils.get_file(image_fname, origin = image_origin)\n",
    "    return predict(image_file)"
   ]
  },
  {
   "cell_type": "code",
   "execution_count": null,
   "id": "93132d3d-6162-4df7-9652-c842c13e0459",
   "metadata": {},
   "outputs": [],
   "source": [
    "predict('chico.png')"
   ]
  },
  {
   "cell_type": "code",
   "execution_count": null,
   "id": "cd6ffbc2-568f-446f-b913-242d71df8a32",
   "metadata": {},
   "outputs": [],
   "source": [
    "predict_url('dog', 'https://www.sciencemag.org/sites/default/files/styles/article_main_large/public/main_puppies_1280p.jpg')"
   ]
  }
 ],
 "metadata": {
  "kernelspec": {
   "display_name": "Python 3",
   "language": "python",
   "name": "python3"
  },
  "language_info": {
   "codemirror_mode": {
    "name": "ipython",
    "version": 3
   },
   "file_extension": ".py",
   "mimetype": "text/x-python",
   "name": "python",
   "nbconvert_exporter": "python",
   "pygments_lexer": "ipython3",
   "version": "3.8.3"
  }
 },
 "nbformat": 4,
 "nbformat_minor": 5
}
