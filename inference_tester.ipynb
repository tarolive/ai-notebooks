{
 "cells": [
  {
   "cell_type": "code",
   "execution_count": null,
   "id": "402b6b98-518c-4793-809d-94c49c6e6914",
   "metadata": {},
   "outputs": [],
   "source": [
    "import requests\n",
    "import json\n",
    "import base64\n",
    "import concurrent\n",
    "import time\n",
    "import datetime"
   ]
  },
  {
   "cell_type": "code",
   "execution_count": null,
   "id": "36e0c690-85bd-49c4-be63-58fe9e127430",
   "metadata": {},
   "outputs": [],
   "source": [
    "api_endpoint = '<api_endpoint>'"
   ]
  },
  {
   "cell_type": "code",
   "execution_count": null,
   "id": "934c3bdd-24fa-494f-9f8b-8c130a37dec9",
   "metadata": {},
   "outputs": [],
   "source": [
    "# threads to execute calls asynchronously\n",
    "threads = 120\n",
    "\n",
    "# duration = base_time x loops\n",
    "base_time = 3\n",
    "requests_per_base_time = 1000\n",
    "\n",
    "# loop requests_per_base_time x base_time\n",
    "loops = 5\n",
    "\n",
    "# request timeout in seconds\n",
    "request_timeout = 3"
   ]
  },
  {
   "cell_type": "code",
   "execution_count": null,
   "id": "7bdfe184-a359-47e9-8505-c64884e8b959",
   "metadata": {},
   "outputs": [],
   "source": [
    "image_path = '<path_to_the_image>'\n",
    "\n",
    "with open(image_path, 'rb') as image_file:\n",
    "    image_data = image_file.read()\n",
    "\n",
    "image_base64 = base64.b64encode(image_data).decode('utf-8')"
   ]
  },
  {
   "cell_type": "code",
   "execution_count": null,
   "id": "299109d4-34a5-4bd8-b1e2-090a63b95cba",
   "metadata": {},
   "outputs": [],
   "source": [
    "payload = {}\n",
    "payload['image'] = image_base64"
   ]
  },
  {
   "cell_type": "code",
   "execution_count": null,
   "id": "058a844a-36db-4c7d-9b56-47cb48c1b191",
   "metadata": {},
   "outputs": [],
   "source": [
    "def request():\n",
    "\n",
    "    requests.post(api_endpoint, json = payload, timeout = request_timeout)"
   ]
  },
  {
   "cell_type": "code",
   "execution_count": null,
   "id": "2376f08c-177e-46a9-b0cb-64cbdc43c695",
   "metadata": {},
   "outputs": [],
   "source": [
    "def request_concurrent(number_of_threads, number_of_requests):\n",
    "\n",
    "    with concurrent.futures.ThreadPoolExecutor(number_of_threads) as executor:\n",
    "\n",
    "        for i in range(number_of_requests):\n",
    "\n",
    "            executor.submit(request)"
   ]
  },
  {
   "cell_type": "code",
   "execution_count": null,
   "id": "82e6af84-45f4-47b0-9788-bb0a35f21460",
   "metadata": {},
   "outputs": [],
   "source": [
    "time_start = datetime.datetime.now()\n",
    "\n",
    "for i in range(loops):\n",
    "\n",
    "    request_concurrent(threads, requests_per_base_time)\n",
    "    if base_time > 0: time.sleep(base_time)\n",
    "\n",
    "time_end = datetime.datetime.now()\n",
    "\n",
    "print('Requests: ', requests_per_base_time * loops) # TODO: Create counter for requests, success and fails\n",
    "print('Duration: ', time_end - time_start)"
   ]
  }
 ],
 "metadata": {
  "kernelspec": {
   "display_name": "Python 3",
   "language": "python",
   "name": "python3"
  },
  "language_info": {
   "codemirror_mode": {
    "name": "ipython",
    "version": 3
   },
   "file_extension": ".py",
   "mimetype": "text/x-python",
   "name": "python",
   "nbconvert_exporter": "python",
   "pygments_lexer": "ipython3",
   "version": "3.8.12"
  }
 },
 "nbformat": 4,
 "nbformat_minor": 5
}
