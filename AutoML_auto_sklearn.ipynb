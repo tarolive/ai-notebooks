{
  "nbformat": 4,
  "nbformat_minor": 0,
  "metadata": {
    "colab": {
      "name": "AutoML_auto-sklearn",
      "provenance": []
    },
    "kernelspec": {
      "name": "python3",
      "display_name": "Python 3"
    },
    "language_info": {
      "name": "python"
    }
  },
  "cells": [
    {
      "cell_type": "code",
      "execution_count": null,
      "metadata": {
        "id": "7-RMQLZFEYcB"
      },
      "outputs": [],
      "source": [
        "!pip3 install --upgrade auto-sklearn sklearn matplotlib==3.1.3"
      ]
    },
    {
      "cell_type": "code",
      "source": [
        "from pprint import pprint\n",
        "import sklearn.datasets\n",
        "import sklearn.metrics\n",
        "import autosklearn.regression\n",
        "import matplotlib.pyplot as plt"
      ],
      "metadata": {
        "id": "JmzwqrPNKAm3"
      },
      "execution_count": 7,
      "outputs": []
    },
    {
      "cell_type": "code",
      "source": [
        "X, y = sklearn.datasets.load_diabetes(return_X_y = True)\n",
        "X_train, X_test, y_train, y_test = sklearn.model_selection.train_test_split(X, y, random_state = 1)"
      ],
      "metadata": {
        "id": "RTntR2z3KApp"
      },
      "execution_count": 3,
      "outputs": []
    },
    {
      "cell_type": "code",
      "source": [
        "automl = autosklearn.regression.AutoSklearnRegressor(time_left_for_this_task = 120, per_run_time_limit = 30, tmp_folder = '/tmp/automl')\n",
        "automl.fit(X_train, y_train, dataset_name = 'diabetes')"
      ],
      "metadata": {
        "id": "xYN5JldPKAsX"
      },
      "execution_count": null,
      "outputs": []
    },
    {
      "cell_type": "code",
      "source": [
        "automl.leaderboard()"
      ],
      "metadata": {
        "id": "z0BzogS_KAvV"
      },
      "execution_count": null,
      "outputs": []
    },
    {
      "cell_type": "code",
      "source": [
        "pprint(automl.show_models(), indent = 4)"
      ],
      "metadata": {
        "id": "OoWn-SnCKAx2"
      },
      "execution_count": null,
      "outputs": []
    },
    {
      "cell_type": "code",
      "source": [
        "train_predictions = automl.predict(X_train)\n",
        "print(\"Train R2 score:\", sklearn.metrics.r2_score(y_train, train_predictions))\n",
        "\n",
        "test_predictions = automl.predict(X_test)\n",
        "print(\"Test R2 score: \", sklearn.metrics.r2_score(y_test, test_predictions))"
      ],
      "metadata": {
        "id": "ERO6PuzWKA0h"
      },
      "execution_count": null,
      "outputs": []
    },
    {
      "cell_type": "code",
      "source": [
        "plt.scatter(train_predictions, y_train, label = \"Train samples\", c = '#d95f02')\n",
        "plt.scatter(test_predictions, y_test, label = \"Test samples\", c = '#7570b3')\n",
        "plt.xlabel(\"Predicted value\")\n",
        "plt.ylabel(\"True value\")\n",
        "plt.legend()\n",
        "plt.plot([30, 400], [30, 400], c = 'k', zorder = 0)\n",
        "plt.xlim([30, 400])\n",
        "plt.ylim([30, 400])\n",
        "plt.tight_layout()\n",
        "plt.show()"
      ],
      "metadata": {
        "id": "ZcSmcb3xMmAw"
      },
      "execution_count": null,
      "outputs": []
    }
  ]
}