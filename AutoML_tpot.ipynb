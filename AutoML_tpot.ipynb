{
  "nbformat": 4,
  "nbformat_minor": 0,
  "metadata": {
    "colab": {
      "name": "AutoML_tpot.ipynb",
      "provenance": []
    },
    "kernelspec": {
      "name": "python3",
      "display_name": "Python 3"
    },
    "language_info": {
      "name": "python"
    }
  },
  "cells": [
    {
      "cell_type": "code",
      "execution_count": null,
      "metadata": {
        "id": "r8Y8KCWIeOEh"
      },
      "outputs": [],
      "source": [
        "!pip3 install --upgrade numpy sklearn tpot"
      ]
    },
    {
      "cell_type": "code",
      "source": [
        "import numpy as np\n",
        "from sklearn.datasets import load_iris\n",
        "from sklearn.model_selection import train_test_split\n",
        "from tpot import TPOTClassifier"
      ],
      "metadata": {
        "id": "3nFuo2NDl9Em"
      },
      "execution_count": 4,
      "outputs": []
    },
    {
      "cell_type": "code",
      "source": [
        "dataset = load_iris()"
      ],
      "metadata": {
        "id": "YDFfHJIlngCq"
      },
      "execution_count": 5,
      "outputs": []
    },
    {
      "cell_type": "code",
      "source": [
        "X_train, X_test, y_train, y_test = train_test_split(\n",
        "    dataset.data.astype(np.float64),\n",
        "    dataset.target.astype(np.float64),\n",
        "    train_size = 0.75,\n",
        "    test_size = 0.25,\n",
        "    random_state = 42\n",
        ")"
      ],
      "metadata": {
        "id": "01pAYkatoi6J"
      },
      "execution_count": 6,
      "outputs": []
    },
    {
      "cell_type": "code",
      "source": [
        "tpot = TPOTClassifier(\n",
        "    generations = 5,\n",
        "    population_size = 50,\n",
        "    verbosity = 2,\n",
        "    random_state = 42\n",
        ")\n",
        "\n",
        "tpot.fit(X_train, y_train)"
      ],
      "metadata": {
        "id": "3Rjy1ypNoi8s"
      },
      "execution_count": null,
      "outputs": []
    },
    {
      "cell_type": "code",
      "source": [
        "tpot.score(X_test, y_test)"
      ],
      "metadata": {
        "id": "LP--cxCirldO"
      },
      "execution_count": null,
      "outputs": []
    }
  ]
}